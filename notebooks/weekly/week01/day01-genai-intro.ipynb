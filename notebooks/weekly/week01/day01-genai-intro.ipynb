{
 "cells": [
  {
   "cell_type": "markdown",
   "id": "6a44362b",
   "metadata": {},
   "source": [
    "# Day 1: What is Generative AI - Interactive Practice\n",
    "\n",
    "**Learning Objective**: Understand what makes AI \"generative\" and explore basic characteristics through hands-on examples.\n",
    "\n",
    "**Time**: 15 minutes of hands-on practice\n",
    "\n",
    "**Prerequisites**: Read [Day 1 Guide](../../../docs/daily-guides/week01/day01-genai-intro.md) first (10 minutes)"
   ]
  },
  {
   "cell_type": "markdown",
   "id": "6d0e2dd7",
   "metadata": {},
   "source": [
    "## 🎯 Today's Focus: Generative vs Discriminative AI\n",
    "\n",
    "Let's explore the fundamental difference through interactive examples."
   ]
  },
  {
   "cell_type": "code",
   "execution_count": null,
   "id": "644ae4b6",
   "metadata": {},
   "outputs": [],
   "source": [
    "# Setup: Import basic libraries for our exploration\n",
    "import random\n",
    "import string\n",
    "from typing import List, Dict\n",
    "\n",
    "print(\"🚀 Day 1 Environment Ready!\")\n",
    "print(\"Today we'll explore: Generative vs Discriminative AI\")"
   ]
  },
  {
   "cell_type": "markdown",
   "id": "db499767",
   "metadata": {},
   "source": [
    "## 🔍 Interactive Exercise 1: Discriminative AI Simulation\n",
    "\n",
    "Let's simulate how discriminative AI works - it classifies or makes decisions about existing data."
   ]
  },
  {
   "cell_type": "code",
   "execution_count": null,
   "id": "10f00c6b",
   "metadata": {},
   "outputs": [],
   "source": [
    "def discriminative_ai_demo(texts: List[str]) -> Dict[str, str]:\n",
    "    \"\"\"\n",
    "    Simulates discriminative AI: classifies existing text as positive/negative.\n",
    "    This represents the 'classification' approach.\n",
    "    \"\"\"\n",
    "    results = {}\n",
    "\n",
    "    positive_words = ['good', 'great', 'excellent', 'amazing', 'wonderful']\n",
    "\n",
    "    for text in texts:\n",
    "        # Simple classification based on word presence\n",
    "        if any(word in text.lower() for word in positive_words):\n",
    "            results[text] = \"Positive\"\n",
    "        else:\n",
    "            results[text] = \"Negative\"\n",
    "\n",
    "    return results\n",
    "\n",
    "\n",
    "# Test with sample texts\n",
    "sample_texts = [\n",
    "    \"This is a great day!\",\n",
    "    \"I feel terrible today.\",\n",
    "    \"The weather is amazing.\"\n",
    "]\n",
    "\n",
    "classifications = discriminative_ai_demo(sample_texts)\n",
    "\n",
    "print(\"🔍 Discriminative AI Example (Classification):\")\n",
    "for text, sentiment in classifications.items():\n",
    "    print(f\"   Input: '{text}' → Classification: {sentiment}\")\n",
    "\n",
    "print(\"\\n💡 Key insight: Discriminative AI analyzes existing content\")"
   ]
  },
  {
   "cell_type": "markdown",
   "id": "d9ed7ff7",
   "metadata": {},
   "source": [
    "## ✨ Interactive Exercise 2: Generative AI Simulation\n",
    "\n",
    "Now let's simulate generative AI - it creates new content based on patterns."
   ]
  },
  {
   "cell_type": "code",
   "execution_count": null,
   "id": "943b0c1c",
   "metadata": {},
   "outputs": [],
   "source": [
    "def generative_ai_demo(topic: str, num_sentences: int = 3) -> List[str]:\n",
    "    \"\"\"\n",
    "    Simulates generative AI: creates new text based on topic.\n",
    "    This represents the 'generation' approach.\n",
    "    \"\"\"\n",
    "\n",
    "    # Simple template-based generation (real AI is much more sophisticated)\n",
    "    templates = {\n",
    "        \"weather\": [\n",
    "            \"The {adjective} weather makes people feel {emotion}.\",\n",
    "            \"Today's forecast shows {condition} conditions.\",\n",
    "            \"Weather patterns are {description} this season.\"\n",
    "        ],\n",
    "        \"technology\": [\n",
    "            \"AI technology is {adjective} and {emotion}.\",\n",
    "            \"Modern computers can {action} data efficiently.\",\n",
    "            \"Software development requires {description} thinking.\"\n",
    "        ]\n",
    "    }\n",
    "\n",
    "    adjectives = ['excellent', 'challenging', 'innovative', 'complex']\n",
    "    emotions = ['exciting', 'interesting', 'remarkable', 'fascinating']\n",
    "    conditions = ['sunny', 'cloudy', 'variable', 'stable']\n",
    "    actions = ['process', 'analyze', 'transform', 'organize']\n",
    "    descriptions = ['creative', 'logical', 'systematic', 'analytical']\n",
    "\n",
    "    generated_sentences = []\n",
    "    topic_templates = templates.get(topic, templates['technology'])\n",
    "\n",
    "    for i in range(num_sentences):\n",
    "        template = random.choice(topic_templates)\n",
    "        sentence = template.format(\n",
    "            adjective=random.choice(adjectives),\n",
    "            emotion=random.choice(emotions),\n",
    "            condition=random.choice(conditions),\n",
    "            action=random.choice(actions),\n",
    "            description=random.choice(descriptions)\n",
    "        )\n",
    "        generated_sentences.append(sentence)\n",
    "\n",
    "    return generated_sentences\n",
    "\n",
    "\n",
    "# Generate new content\n",
    "generated_text = generative_ai_demo(\"technology\", 3)\n",
    "\n",
    "print(\"✨ Generative AI Example (Content Creation):\")\n",
    "print(f\"   Topic: 'technology'\")\n",
    "print(\"   Generated content:\")\n",
    "for i, sentence in enumerate(generated_text, 1):\n",
    "    print(f\"   {i}. {sentence}\")\n",
    "\n",
    "print(\"\\n💡 Key insight: Generative AI creates new content from patterns\")"
   ]
  },
  {
   "cell_type": "markdown",
   "id": "37419fa4",
   "metadata": {},
   "source": [
    "## 🤔 Critical Thinking Exercise\n",
    "\n",
    "Now let's compare what we just experienced:"
   ]
  },
  {
   "cell_type": "code",
   "execution_count": null,
   "id": "776f1bd6",
   "metadata": {},
   "outputs": [],
   "source": [
    "print(\"🤔 Comparison: Discriminative vs Generative AI\")\n",
    "print(\"=\"*50)\n",
    "\n",
    "print(\"\\n📊 DISCRIMINATIVE AI:\")\n",
    "print(\"   • Input: Existing text ('This is a great day!')\")\n",
    "print(\"   • Output: Classification ('Positive')\")\n",
    "print(\"   • Purpose: Analyze and categorize existing content\")\n",
    "print(\"   • Example tasks: Sentiment analysis, spam detection, image recognition\")\n",
    "\n",
    "print(\"\\n✨ GENERATIVE AI:\")\n",
    "print(\"   • Input: Topic or prompt ('technology')\")\n",
    "print(\"   • Output: New content ('AI technology is innovative and exciting.')\")\n",
    "print(\"   • Purpose: Create new content based on learned patterns\")\n",
    "print(\"   • Example tasks: Text generation, image creation, code writing\")\n",
    "\n",
    "print(\"\\n🎯 KEY DISTINCTION:\")\n",
    "print(\"   Discriminative: 'What category does this belong to?'\")\n",
    "print(\"   Generative: 'What new content can I create?'\")"
   ]
  },
  {
   "cell_type": "markdown",
   "id": "e167848e",
   "metadata": {},
   "source": [
    "## 🏆 Day 1 Knowledge Check\n",
    "\n",
    "Test your understanding with this interactive quiz:"
   ]
  },
  {
   "cell_type": "code",
   "execution_count": null,
   "id": "fd2f3342",
   "metadata": {},
   "outputs": [],
   "source": [
    "def day1_knowledge_check():\n",
    "    \"\"\"\n",
    "    Interactive knowledge check for Day 1 concepts.\n",
    "    \"\"\"\n",
    "    print(\"📋 Day 1 Knowledge Check\")\n",
    "    print(\"Think about these scenarios and identify if they're Generative or Discriminative:\")\n",
    "\n",
    "    scenarios = [\n",
    "        (\"Gmail filtering spam emails\",\n",
    "         \"Discriminative\", \"Classifies existing emails\"),\n",
    "        (\"ChatGPT writing a poem\", \"Generative\", \"Creates new content\"),\n",
    "        (\"Photo app detecting faces\", \"Discriminative\",\n",
    "         \"Identifies features in existing images\"),\n",
    "        (\"AI composing music\", \"Generative\", \"Creates new musical content\"),\n",
    "        (\"Voice assistant understanding commands\",\n",
    "         \"Discriminative\", \"Classifies spoken input\")\n",
    "    ]\n",
    "\n",
    "    score = 0\n",
    "    for i, (scenario, correct_answer, explanation) in enumerate(scenarios, 1):\n",
    "        print(f\"\\n{i}. {scenario}\")\n",
    "        print(f\"   Answer: {correct_answer}\")\n",
    "        print(f\"   Why: {explanation}\")\n",
    "\n",
    "    print(\"\\n🎯 If you understood all 5 scenarios, you've mastered Day 1!\")\n",
    "    return True\n",
    "\n",
    "\n",
    "day1_knowledge_check()"
   ]
  },
  {
   "cell_type": "markdown",
   "id": "99b99fbc",
   "metadata": {},
   "source": [
    "## 📝 Day 1 Reflection (5 minutes)\n",
    "\n",
    "Take a moment to reflect on what you learned:"
   ]
  },
  {
   "cell_type": "code",
   "execution_count": null,
   "id": "3c0c36e9",
   "metadata": {},
   "outputs": [],
   "source": [
    "print(\"📝 Day 1 Reflection Questions:\")\n",
    "print(\"\\n1. In your own words, what makes AI 'generative'?\")\n",
    "print(\"   Your answer: [Write your reflection here]\")\n",
    "\n",
    "print(\"\\n2. Give one example of generative AI you've used or seen:\")\n",
    "print(\"   Your answer: [Write your example here]\")\n",
    "\n",
    "print(\"\\n3. What's one thing that surprised you about the difference?\")\n",
    "print(\"   Your answer: [Write your insight here]\")\n",
    "\n",
    "print(\"\\n🎯 Tomorrow: We'll explore HOW generative AI actually works (training vs generation)\")\n",
    "print(\"📖 Next guide: Day 2 - How GenAI Works (Overview)\")"
   ]
  },
  {
   "cell_type": "markdown",
   "id": "cf9b2126",
   "metadata": {},
   "source": [
    "## ✅ Day 1 Completion Checklist\n",
    "\n",
    "Before moving to Day 2, confirm you can:\n",
    "\n",
    "- [ ] Define generative AI in your own words\n",
    "- [ ] Distinguish between generative and discriminative AI\n",
    "- [ ] Give examples of each type\n",
    "- [ ] Understand that generative AI creates new content\n",
    "- [ ] Recognize generative AI applications in daily life\n",
    "\n",
    "**🎉 Day 1 Complete!** Ready for [Day 2: How GenAI Works](day02-genai-overview.ipynb)?"
   ]
  }
 ],
 "metadata": {
  "language_info": {
   "name": "python"
  }
 },
 "nbformat": 4,
 "nbformat_minor": 5
}
